{
 "cells": [
  {
   "cell_type": "code",
   "execution_count": 1,
   "metadata": {},
   "outputs": [],
   "source": [
    "from mxnet import nd, autograd, gluon\n",
    "import matplotlib.pyplot as plt"
   ]
  },
  {
   "cell_type": "markdown",
   "metadata": {},
   "source": [
    "# Estimation of Parameters for Various Models using Stochastic Gradient Descent"
   ]
  },
  {
   "cell_type": "markdown",
   "metadata": {},
   "source": [
    "### 0. Constructing Basic Functions from scratch"
   ]
  },
  {
   "cell_type": "code",
   "execution_count": 33,
   "metadata": {},
   "outputs": [],
   "source": [
    "def sgd(params, lr):\n",
    "    for param in params:\n",
    "        param[:] = param - lr * param.grad\n",
    "\n",
    "def lin_loss(y, y_hat):\n",
    "    return (y_hat - y.reshape(y_hat.shape)) ** 2\n",
    "        \n",
    "def log_loss(y, y_hat):\n",
    "    return (nd.log(y.reshape(y_prime.shape)) - nd.log(y_prime)) ** 2"
   ]
  },
  {
   "cell_type": "markdown",
   "metadata": {},
   "source": [
    "### 1. Plank's law with random noise\n",
    "\n",
    "$$B_v(v, T) = \\frac{2 h c^2}{\\lambda^5} \\frac 1 {e^{\\frac{h c}{\\lambda k_B T}} -1}$$"
   ]
  },
  {
   "cell_type": "markdown",
   "metadata": {},
   "source": [
    "##### Setting up constants and functions"
   ]
  },
  {
   "cell_type": "code",
   "execution_count": 29,
   "metadata": {
    "scrolled": true
   },
   "outputs": [
    {
     "data": {
      "image/png": "[encoded data removed]",
      "text/plain": [
       "<Figure size 432x288 with 1 Axes>"
      ]
     },
     "metadata": {
      "needs_background": "light"
     },
     "output_type": "display_data"
    }
   ],
   "source": [
    "# Constants\n",
    "c = 299792458\n",
    "h = 6.62607004e-34\n",
    "k = 1.38064852e-23\n",
    "\n",
    "# Wavenumber observed from v=1μm to v=50μm\n",
    "lambda_real = nd.arange(1, 50) * 1e-6\n",
    "\n",
    "# Plank's Law\n",
    "def plank(l, T):\n",
    "     return (2 * h * (c ** 2)) / (l ** 5 * (nd.exp((h * c) / (l * k * T)) - 1))\n",
    "\n",
    "# Plot for different temperature\n",
    "for temp in range(1, 6):\n",
    "    radiance = plank(lambda_real, 100 * temp)\n",
    "    plt.plot(lambda_real.asnumpy(), radiance.asnumpy())\n",
    "plt.show()"
   ]
  },
  {
   "cell_type": "markdown",
   "metadata": {},
   "source": [
    "##### Solving a problem \n",
    "\n",
    "-> we attemp to estimate the true temperature"
   ]
  },
  {
   "cell_type": "code",
   "execution_count": null,
   "metadata": {},
   "outputs": [],
   "source": [
    "# True parameters (18 Celcius)\n",
    "Temp = 291 \n",
    "\n",
    "# Wavenumber observed from v=1μm to v=50μm\n",
    "lambda_real = nd.arange(1, 50) * 1e-6\n",
    "\n",
    "# Noise on wavenumber\n",
    "noise = nd.random_normal(shape=len(lambda_real)) * 1e-6\n",
    "\n",
    "lambda_noise = lambda_real + noise\n",
    "\n",
    "radiance"
   ]
  },
  {
   "cell_type": "markdown",
   "metadata": {},
   "source": [
    "#### We try to estimate this random noise with four following models\n",
    "\n",
    "- Linear\n",
    "- Quadratic\n",
    "- Wien's Approximation\n",
    "- Plank's Law (original function)"
   ]
  },
  {
   "cell_type": "code",
   "execution_count": null,
   "metadata": {},
   "outputs": [],
   "source": []
  },
  {
   "cell_type": "markdown",
   "metadata": {},
   "source": [
    "### 2. Gamma Distribution\n",
    "\n",
    ": $$\n",
    "f(x|\\alpha, \\beta) = \\frac{\\beta ^ \\alpha x^{\\alpha-1} e^{-\\beta x}} {\\Gamma(\\alpha)}\n",
    "$$\n",
    "\n",
    "where \n",
    "$$\n",
    "\\Gamma \\left( \\alpha \\right) = \\int\\limits_0^\\infty {s^{\\alpha - 1} } e^{ - s} ds\n",
    "$$\n"
   ]
  },
  {
   "cell_type": "code",
   "execution_count": null,
   "metadata": {},
   "outputs": [],
   "source": []
  },
  {
   "cell_type": "code",
   "execution_count": null,
   "metadata": {},
   "outputs": [],
   "source": []
  }
 ],
 "metadata": {
  "kernelspec": {
   "display_name": "Python 3",
   "language": "python",
   "name": "python3"
  },
  "language_info": {
   "codemirror_mode": {
    "name": "ipython",
    "version": 3
   },
   "file_extension": ".py",
   "mimetype": "text/x-python",
   "name": "python",
   "nbconvert_exporter": "python",
   "pygments_lexer": "ipython3",
   "version": "3.6.8"
  }
 },
 "nbformat": 4,
 "nbformat_minor": 2
}
