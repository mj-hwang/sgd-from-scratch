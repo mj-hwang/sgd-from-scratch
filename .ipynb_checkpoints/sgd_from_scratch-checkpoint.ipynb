{
 "cells": [
  {
   "cell_type": "code",
   "execution_count": 1,
   "metadata": {},
   "outputs": [],
   "source": [
    "from mxnet import nd, autograd, gluon\n",
    "import matplotlib.pyplot as plt"
   ]
  },
  {
   "cell_type": "markdown",
   "metadata": {},
   "source": [
    "# Estimation of Parameters for Various Models using Stochastic Gradient Descent"
   ]
  },
  {
   "cell_type": "markdown",
   "metadata": {},
   "source": [
    "### 1. Plank's law with random noise\n",
    "\n",
    "$$B_v(v, T) = \\frac{2 h v^3}{c^2} \\frac 1 {e^{-\\frac{h v}{k_B T}} -1}$$"
   ]
  },
  {
   "cell_type": "code",
   "execution_count": 5,
   "metadata": {},
   "outputs": [],
   "source": [
    "# Constants\n",
    "c = 299792458\n",
    "h = 6.62607004e-34\n",
    "k = 1.38064852e-23\n",
    "\n",
    "# True parameters\n",
    "T = 291 \n",
    "\n",
    "# We observe from t=0 to t=15\n",
    "\n",
    "\n",
    "noise = nd.random_normal()"
   ]
  },
  {
   "cell_type": "markdown",
   "metadata": {},
   "source": [
    "We try to estimate this random noise with three following models"
   ]
  },
  {
   "cell_type": "markdown",
   "metadata": {},
   "source": [
    "### 2. Gamma Distribution\n",
    "\n",
    ": $$\n",
    "f(x|\\alpha, \\beta) = \\frac{\\beta ^ \\alpha x^{\\alpha-1} e^{-\\beta x}} {\\Gamma(\\alpha)}\n",
    "$$\n",
    "\n",
    "where \n",
    "$$\n",
    "\\Gamma \\left( \\alpha \\right) = \\int\\limits_0^\\infty {s^{\\alpha - 1} } e^{ - s} ds\n",
    "$$\n"
   ]
  },
  {
   "cell_type": "code",
   "execution_count": null,
   "metadata": {},
   "outputs": [],
   "source": []
  },
  {
   "cell_type": "code",
   "execution_count": null,
   "metadata": {},
   "outputs": [],
   "source": []
  }
 ],
 "metadata": {
  "kernelspec": {
   "display_name": "Python 3",
   "language": "python",
   "name": "python3"
  },
  "language_info": {
   "codemirror_mode": {
    "name": "ipython",
    "version": 3
   },
   "file_extension": ".py",
   "mimetype": "text/x-python",
   "name": "python",
   "nbconvert_exporter": "python",
   "pygments_lexer": "ipython3",
   "version": "3.6.8"
  }
 },
 "nbformat": 4,
 "nbformat_minor": 2
}
